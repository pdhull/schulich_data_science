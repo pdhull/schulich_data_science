{
 "cells": [
  {
   "attachments": {},
   "cell_type": "markdown",
   "metadata": {},
   "source": [
    "                                                \n",
    "                                                          Data Science\n",
    "                                          Assignment 2: Statistical Testing and A/B Testing"
   ]
  },
  {
   "attachments": {},
   "cell_type": "markdown",
   "metadata": {},
   "source": [
    " We first import the basic libraries as taught in class for data analysis and visualization tasks to our Jupiter Notebook, including NumPy for numerical operations, Pandas for data manipulation, Matplotlib for plotting, Seaborn for enhanced visualizations, and SciPy Stats for statistical analysis."
   ]
  },
  {
   "cell_type": "code",
   "execution_count": 2,
   "metadata": {},
   "outputs": [],
   "source": [
    "import numpy as np\n",
    "import pandas as pd\n",
    "import matplotlib.pyplot as plt\n",
    "import seaborn as sns\n",
    "import scipy.stats as stats"
   ]
  },
  {
   "attachments": {},
   "cell_type": "markdown",
   "metadata": {},
   "source": [
    "Extract the experiment data set from your local file on the computer or extract it from your GitHub account."
   ]
  },
  {
   "cell_type": "code",
   "execution_count": 3,
   "metadata": {},
   "outputs": [],
   "source": [
    "df = pd.read_csv('/Users/pratiksha/Downloads/Data Files/experiment_dataset.csv')"
   ]
  },
  {
   "attachments": {},
   "cell_type": "markdown",
   "metadata": {},
   "source": [
    "Print the DataFrame taking df as an alias for further coding around the dataset."
   ]
  },
  {
   "cell_type": "code",
   "execution_count": 4,
   "metadata": {},
   "outputs": [
    {
     "data": {
      "text/html": [
       "<div>\n",
       "<style scoped>\n",
       "    .dataframe tbody tr th:only-of-type {\n",
       "        vertical-align: middle;\n",
       "    }\n",
       "\n",
       "    .dataframe tbody tr th {\n",
       "        vertical-align: top;\n",
       "    }\n",
       "\n",
       "    .dataframe thead th {\n",
       "        text-align: right;\n",
       "    }\n",
       "</style>\n",
       "<table border=\"1\" class=\"dataframe\">\n",
       "  <thead>\n",
       "    <tr style=\"text-align: right;\">\n",
       "      <th></th>\n",
       "      <th>Unnamed: 0</th>\n",
       "      <th>Age</th>\n",
       "      <th>Location</th>\n",
       "      <th>Device</th>\n",
       "      <th>Variant</th>\n",
       "      <th>Time Spent</th>\n",
       "      <th>CTR</th>\n",
       "    </tr>\n",
       "  </thead>\n",
       "  <tbody>\n",
       "    <tr>\n",
       "      <th>0</th>\n",
       "      <td>0</td>\n",
       "      <td>62</td>\n",
       "      <td>Location2</td>\n",
       "      <td>Device2</td>\n",
       "      <td>Control</td>\n",
       "      <td>13.928669</td>\n",
       "      <td>0.084776</td>\n",
       "    </tr>\n",
       "    <tr>\n",
       "      <th>1</th>\n",
       "      <td>1</td>\n",
       "      <td>18</td>\n",
       "      <td>Location1</td>\n",
       "      <td>Device1</td>\n",
       "      <td>Variant B</td>\n",
       "      <td>11.310518</td>\n",
       "      <td>0.096859</td>\n",
       "    </tr>\n",
       "    <tr>\n",
       "      <th>2</th>\n",
       "      <td>2</td>\n",
       "      <td>21</td>\n",
       "      <td>Location2</td>\n",
       "      <td>Device1</td>\n",
       "      <td>Variant B</td>\n",
       "      <td>24.842100</td>\n",
       "      <td>0.097630</td>\n",
       "    </tr>\n",
       "    <tr>\n",
       "      <th>3</th>\n",
       "      <td>3</td>\n",
       "      <td>21</td>\n",
       "      <td>Location1</td>\n",
       "      <td>Device3</td>\n",
       "      <td>Variant B</td>\n",
       "      <td>20.061300</td>\n",
       "      <td>0.109783</td>\n",
       "    </tr>\n",
       "    <tr>\n",
       "      <th>4</th>\n",
       "      <td>4</td>\n",
       "      <td>57</td>\n",
       "      <td>Location1</td>\n",
       "      <td>Device2</td>\n",
       "      <td>Variant B</td>\n",
       "      <td>34.495503</td>\n",
       "      <td>0.068579</td>\n",
       "    </tr>\n",
       "    <tr>\n",
       "      <th>...</th>\n",
       "      <td>...</td>\n",
       "      <td>...</td>\n",
       "      <td>...</td>\n",
       "      <td>...</td>\n",
       "      <td>...</td>\n",
       "      <td>...</td>\n",
       "      <td>...</td>\n",
       "    </tr>\n",
       "    <tr>\n",
       "      <th>995</th>\n",
       "      <td>995</td>\n",
       "      <td>39</td>\n",
       "      <td>Location2</td>\n",
       "      <td>Device2</td>\n",
       "      <td>Variant B</td>\n",
       "      <td>17.252030</td>\n",
       "      <td>0.092211</td>\n",
       "    </tr>\n",
       "    <tr>\n",
       "      <th>996</th>\n",
       "      <td>996</td>\n",
       "      <td>38</td>\n",
       "      <td>Location3</td>\n",
       "      <td>Device2</td>\n",
       "      <td>Control</td>\n",
       "      <td>30.075898</td>\n",
       "      <td>0.078151</td>\n",
       "    </tr>\n",
       "    <tr>\n",
       "      <th>997</th>\n",
       "      <td>997</td>\n",
       "      <td>60</td>\n",
       "      <td>Location2</td>\n",
       "      <td>Device3</td>\n",
       "      <td>Control</td>\n",
       "      <td>31.929223</td>\n",
       "      <td>0.125213</td>\n",
       "    </tr>\n",
       "    <tr>\n",
       "      <th>998</th>\n",
       "      <td>998</td>\n",
       "      <td>35</td>\n",
       "      <td>Location2</td>\n",
       "      <td>Device2</td>\n",
       "      <td>Variant B</td>\n",
       "      <td>14.680299</td>\n",
       "      <td>0.095423</td>\n",
       "    </tr>\n",
       "    <tr>\n",
       "      <th>999</th>\n",
       "      <td>999</td>\n",
       "      <td>55</td>\n",
       "      <td>Location1</td>\n",
       "      <td>Device1</td>\n",
       "      <td>Variant B</td>\n",
       "      <td>25.803169</td>\n",
       "      <td>0.166688</td>\n",
       "    </tr>\n",
       "  </tbody>\n",
       "</table>\n",
       "<p>1000 rows × 7 columns</p>\n",
       "</div>"
      ],
      "text/plain": [
       "     Unnamed: 0  Age   Location   Device    Variant  Time Spent       CTR\n",
       "0             0   62  Location2  Device2    Control   13.928669  0.084776\n",
       "1             1   18  Location1  Device1  Variant B   11.310518  0.096859\n",
       "2             2   21  Location2  Device1  Variant B   24.842100  0.097630\n",
       "3             3   21  Location1  Device3  Variant B   20.061300  0.109783\n",
       "4             4   57  Location1  Device2  Variant B   34.495503  0.068579\n",
       "..          ...  ...        ...      ...        ...         ...       ...\n",
       "995         995   39  Location2  Device2  Variant B   17.252030  0.092211\n",
       "996         996   38  Location3  Device2    Control   30.075898  0.078151\n",
       "997         997   60  Location2  Device3    Control   31.929223  0.125213\n",
       "998         998   35  Location2  Device2  Variant B   14.680299  0.095423\n",
       "999         999   55  Location1  Device1  Variant B   25.803169  0.166688\n",
       "\n",
       "[1000 rows x 7 columns]"
      ]
     },
     "execution_count": 4,
     "metadata": {},
     "output_type": "execute_result"
    }
   ],
   "source": [
    "df"
   ]
  },
  {
   "attachments": {},
   "cell_type": "markdown",
   "metadata": {},
   "source": [
    "The below code is used to display concise information about the DataFrame providing an overview of the DataFrame's structure and content. "
   ]
  },
  {
   "cell_type": "code",
   "execution_count": 5,
   "metadata": {},
   "outputs": [
    {
     "name": "stdout",
     "output_type": "stream",
     "text": [
      "<class 'pandas.core.frame.DataFrame'>\n",
      "RangeIndex: 1000 entries, 0 to 999\n",
      "Data columns (total 7 columns):\n",
      " #   Column      Non-Null Count  Dtype  \n",
      "---  ------      --------------  -----  \n",
      " 0   Unnamed: 0  1000 non-null   int64  \n",
      " 1   Age         1000 non-null   int64  \n",
      " 2   Location    1000 non-null   object \n",
      " 3   Device      1000 non-null   object \n",
      " 4   Variant     1000 non-null   object \n",
      " 5   Time Spent  1000 non-null   float64\n",
      " 6   CTR         1000 non-null   float64\n",
      "dtypes: float64(2), int64(2), object(3)\n",
      "memory usage: 54.8+ KB\n"
     ]
    }
   ],
   "source": [
    "df.info()"
   ]
  },
  {
   "attachments": {},
   "cell_type": "markdown",
   "metadata": {},
   "source": [
    "The below code provides summary statistics for all columns in the DataFrame, including numerical and categorical variables."
   ]
  },
  {
   "cell_type": "code",
   "execution_count": 6,
   "metadata": {},
   "outputs": [
    {
     "data": {
      "text/html": [
       "<div>\n",
       "<style scoped>\n",
       "    .dataframe tbody tr th:only-of-type {\n",
       "        vertical-align: middle;\n",
       "    }\n",
       "\n",
       "    .dataframe tbody tr th {\n",
       "        vertical-align: top;\n",
       "    }\n",
       "\n",
       "    .dataframe thead th {\n",
       "        text-align: right;\n",
       "    }\n",
       "</style>\n",
       "<table border=\"1\" class=\"dataframe\">\n",
       "  <thead>\n",
       "    <tr style=\"text-align: right;\">\n",
       "      <th></th>\n",
       "      <th>Unnamed: 0</th>\n",
       "      <th>Age</th>\n",
       "      <th>Location</th>\n",
       "      <th>Device</th>\n",
       "      <th>Variant</th>\n",
       "      <th>Time Spent</th>\n",
       "      <th>CTR</th>\n",
       "    </tr>\n",
       "  </thead>\n",
       "  <tbody>\n",
       "    <tr>\n",
       "      <th>count</th>\n",
       "      <td>1000.000000</td>\n",
       "      <td>1000.000000</td>\n",
       "      <td>1000</td>\n",
       "      <td>1000</td>\n",
       "      <td>1000</td>\n",
       "      <td>1000.000000</td>\n",
       "      <td>1000.000000</td>\n",
       "    </tr>\n",
       "    <tr>\n",
       "      <th>unique</th>\n",
       "      <td>NaN</td>\n",
       "      <td>NaN</td>\n",
       "      <td>3</td>\n",
       "      <td>3</td>\n",
       "      <td>3</td>\n",
       "      <td>NaN</td>\n",
       "      <td>NaN</td>\n",
       "    </tr>\n",
       "    <tr>\n",
       "      <th>top</th>\n",
       "      <td>NaN</td>\n",
       "      <td>NaN</td>\n",
       "      <td>Location2</td>\n",
       "      <td>Device3</td>\n",
       "      <td>Control</td>\n",
       "      <td>NaN</td>\n",
       "      <td>NaN</td>\n",
       "    </tr>\n",
       "    <tr>\n",
       "      <th>freq</th>\n",
       "      <td>NaN</td>\n",
       "      <td>NaN</td>\n",
       "      <td>343</td>\n",
       "      <td>346</td>\n",
       "      <td>340</td>\n",
       "      <td>NaN</td>\n",
       "      <td>NaN</td>\n",
       "    </tr>\n",
       "    <tr>\n",
       "      <th>mean</th>\n",
       "      <td>499.500000</td>\n",
       "      <td>40.715000</td>\n",
       "      <td>NaN</td>\n",
       "      <td>NaN</td>\n",
       "      <td>NaN</td>\n",
       "      <td>22.713345</td>\n",
       "      <td>0.109145</td>\n",
       "    </tr>\n",
       "    <tr>\n",
       "      <th>std</th>\n",
       "      <td>288.819436</td>\n",
       "      <td>13.655557</td>\n",
       "      <td>NaN</td>\n",
       "      <td>NaN</td>\n",
       "      <td>NaN</td>\n",
       "      <td>5.479292</td>\n",
       "      <td>0.022366</td>\n",
       "    </tr>\n",
       "    <tr>\n",
       "      <th>min</th>\n",
       "      <td>0.000000</td>\n",
       "      <td>18.000000</td>\n",
       "      <td>NaN</td>\n",
       "      <td>NaN</td>\n",
       "      <td>NaN</td>\n",
       "      <td>7.114806</td>\n",
       "      <td>0.012975</td>\n",
       "    </tr>\n",
       "    <tr>\n",
       "      <th>25%</th>\n",
       "      <td>249.750000</td>\n",
       "      <td>28.000000</td>\n",
       "      <td>NaN</td>\n",
       "      <td>NaN</td>\n",
       "      <td>NaN</td>\n",
       "      <td>19.216608</td>\n",
       "      <td>0.094286</td>\n",
       "    </tr>\n",
       "    <tr>\n",
       "      <th>50%</th>\n",
       "      <td>499.500000</td>\n",
       "      <td>41.000000</td>\n",
       "      <td>NaN</td>\n",
       "      <td>NaN</td>\n",
       "      <td>NaN</td>\n",
       "      <td>22.506707</td>\n",
       "      <td>0.108944</td>\n",
       "    </tr>\n",
       "    <tr>\n",
       "      <th>75%</th>\n",
       "      <td>749.250000</td>\n",
       "      <td>53.000000</td>\n",
       "      <td>NaN</td>\n",
       "      <td>NaN</td>\n",
       "      <td>NaN</td>\n",
       "      <td>26.255950</td>\n",
       "      <td>0.124238</td>\n",
       "    </tr>\n",
       "    <tr>\n",
       "      <th>max</th>\n",
       "      <td>999.000000</td>\n",
       "      <td>64.000000</td>\n",
       "      <td>NaN</td>\n",
       "      <td>NaN</td>\n",
       "      <td>NaN</td>\n",
       "      <td>39.395770</td>\n",
       "      <td>0.172728</td>\n",
       "    </tr>\n",
       "  </tbody>\n",
       "</table>\n",
       "</div>"
      ],
      "text/plain": [
       "         Unnamed: 0          Age   Location   Device  Variant   Time Spent   \n",
       "count   1000.000000  1000.000000       1000     1000     1000  1000.000000  \\\n",
       "unique          NaN          NaN          3        3        3          NaN   \n",
       "top             NaN          NaN  Location2  Device3  Control          NaN   \n",
       "freq            NaN          NaN        343      346      340          NaN   \n",
       "mean     499.500000    40.715000        NaN      NaN      NaN    22.713345   \n",
       "std      288.819436    13.655557        NaN      NaN      NaN     5.479292   \n",
       "min        0.000000    18.000000        NaN      NaN      NaN     7.114806   \n",
       "25%      249.750000    28.000000        NaN      NaN      NaN    19.216608   \n",
       "50%      499.500000    41.000000        NaN      NaN      NaN    22.506707   \n",
       "75%      749.250000    53.000000        NaN      NaN      NaN    26.255950   \n",
       "max      999.000000    64.000000        NaN      NaN      NaN    39.395770   \n",
       "\n",
       "                CTR  \n",
       "count   1000.000000  \n",
       "unique          NaN  \n",
       "top             NaN  \n",
       "freq            NaN  \n",
       "mean       0.109145  \n",
       "std        0.022366  \n",
       "min        0.012975  \n",
       "25%        0.094286  \n",
       "50%        0.108944  \n",
       "75%        0.124238  \n",
       "max        0.172728  "
      ]
     },
     "execution_count": 6,
     "metadata": {},
     "output_type": "execute_result"
    }
   ],
   "source": [
    "df.describe(include = 'all')"
   ]
  },
  {
   "attachments": {},
   "cell_type": "markdown",
   "metadata": {},
   "source": [
    "The below code displays the data types of each column in the DataFrame."
   ]
  },
  {
   "cell_type": "code",
   "execution_count": 7,
   "metadata": {},
   "outputs": [
    {
     "data": {
      "text/plain": [
       "Unnamed: 0      int64\n",
       "Age             int64\n",
       "Location       object\n",
       "Device         object\n",
       "Variant        object\n",
       "Time Spent    float64\n",
       "CTR           float64\n",
       "dtype: object"
      ]
     },
     "execution_count": 7,
     "metadata": {},
     "output_type": "execute_result"
    }
   ],
   "source": [
    "df.dtypes"
   ]
  },
  {
   "attachments": {},
   "cell_type": "markdown",
   "metadata": {},
   "source": [
    "The below code displays the last 10 rows of the DataFrame, providing a glimpse of the data towards the end."
   ]
  },
  {
   "cell_type": "code",
   "execution_count": 8,
   "metadata": {},
   "outputs": [
    {
     "data": {
      "text/html": [
       "<div>\n",
       "<style scoped>\n",
       "    .dataframe tbody tr th:only-of-type {\n",
       "        vertical-align: middle;\n",
       "    }\n",
       "\n",
       "    .dataframe tbody tr th {\n",
       "        vertical-align: top;\n",
       "    }\n",
       "\n",
       "    .dataframe thead th {\n",
       "        text-align: right;\n",
       "    }\n",
       "</style>\n",
       "<table border=\"1\" class=\"dataframe\">\n",
       "  <thead>\n",
       "    <tr style=\"text-align: right;\">\n",
       "      <th></th>\n",
       "      <th>Unnamed: 0</th>\n",
       "      <th>Age</th>\n",
       "      <th>Location</th>\n",
       "      <th>Device</th>\n",
       "      <th>Variant</th>\n",
       "      <th>Time Spent</th>\n",
       "      <th>CTR</th>\n",
       "    </tr>\n",
       "  </thead>\n",
       "  <tbody>\n",
       "    <tr>\n",
       "      <th>990</th>\n",
       "      <td>990</td>\n",
       "      <td>54</td>\n",
       "      <td>Location3</td>\n",
       "      <td>Device1</td>\n",
       "      <td>Control</td>\n",
       "      <td>19.357402</td>\n",
       "      <td>0.100896</td>\n",
       "    </tr>\n",
       "    <tr>\n",
       "      <th>991</th>\n",
       "      <td>991</td>\n",
       "      <td>35</td>\n",
       "      <td>Location3</td>\n",
       "      <td>Device1</td>\n",
       "      <td>Variant B</td>\n",
       "      <td>22.409808</td>\n",
       "      <td>0.100951</td>\n",
       "    </tr>\n",
       "    <tr>\n",
       "      <th>992</th>\n",
       "      <td>992</td>\n",
       "      <td>44</td>\n",
       "      <td>Location1</td>\n",
       "      <td>Device2</td>\n",
       "      <td>Variant A</td>\n",
       "      <td>20.161483</td>\n",
       "      <td>0.098470</td>\n",
       "    </tr>\n",
       "    <tr>\n",
       "      <th>993</th>\n",
       "      <td>993</td>\n",
       "      <td>24</td>\n",
       "      <td>Location3</td>\n",
       "      <td>Device3</td>\n",
       "      <td>Variant A</td>\n",
       "      <td>27.390527</td>\n",
       "      <td>0.095718</td>\n",
       "    </tr>\n",
       "    <tr>\n",
       "      <th>994</th>\n",
       "      <td>994</td>\n",
       "      <td>52</td>\n",
       "      <td>Location1</td>\n",
       "      <td>Device2</td>\n",
       "      <td>Control</td>\n",
       "      <td>15.012350</td>\n",
       "      <td>0.071914</td>\n",
       "    </tr>\n",
       "    <tr>\n",
       "      <th>995</th>\n",
       "      <td>995</td>\n",
       "      <td>39</td>\n",
       "      <td>Location2</td>\n",
       "      <td>Device2</td>\n",
       "      <td>Variant B</td>\n",
       "      <td>17.252030</td>\n",
       "      <td>0.092211</td>\n",
       "    </tr>\n",
       "    <tr>\n",
       "      <th>996</th>\n",
       "      <td>996</td>\n",
       "      <td>38</td>\n",
       "      <td>Location3</td>\n",
       "      <td>Device2</td>\n",
       "      <td>Control</td>\n",
       "      <td>30.075898</td>\n",
       "      <td>0.078151</td>\n",
       "    </tr>\n",
       "    <tr>\n",
       "      <th>997</th>\n",
       "      <td>997</td>\n",
       "      <td>60</td>\n",
       "      <td>Location2</td>\n",
       "      <td>Device3</td>\n",
       "      <td>Control</td>\n",
       "      <td>31.929223</td>\n",
       "      <td>0.125213</td>\n",
       "    </tr>\n",
       "    <tr>\n",
       "      <th>998</th>\n",
       "      <td>998</td>\n",
       "      <td>35</td>\n",
       "      <td>Location2</td>\n",
       "      <td>Device2</td>\n",
       "      <td>Variant B</td>\n",
       "      <td>14.680299</td>\n",
       "      <td>0.095423</td>\n",
       "    </tr>\n",
       "    <tr>\n",
       "      <th>999</th>\n",
       "      <td>999</td>\n",
       "      <td>55</td>\n",
       "      <td>Location1</td>\n",
       "      <td>Device1</td>\n",
       "      <td>Variant B</td>\n",
       "      <td>25.803169</td>\n",
       "      <td>0.166688</td>\n",
       "    </tr>\n",
       "  </tbody>\n",
       "</table>\n",
       "</div>"
      ],
      "text/plain": [
       "     Unnamed: 0  Age   Location   Device    Variant  Time Spent       CTR\n",
       "990         990   54  Location3  Device1    Control   19.357402  0.100896\n",
       "991         991   35  Location3  Device1  Variant B   22.409808  0.100951\n",
       "992         992   44  Location1  Device2  Variant A   20.161483  0.098470\n",
       "993         993   24  Location3  Device3  Variant A   27.390527  0.095718\n",
       "994         994   52  Location1  Device2    Control   15.012350  0.071914\n",
       "995         995   39  Location2  Device2  Variant B   17.252030  0.092211\n",
       "996         996   38  Location3  Device2    Control   30.075898  0.078151\n",
       "997         997   60  Location2  Device3    Control   31.929223  0.125213\n",
       "998         998   35  Location2  Device2  Variant B   14.680299  0.095423\n",
       "999         999   55  Location1  Device1  Variant B   25.803169  0.166688"
      ]
     },
     "execution_count": 8,
     "metadata": {},
     "output_type": "execute_result"
    }
   ],
   "source": [
    "df.tail(10)"
   ]
  },
  {
   "attachments": {},
   "cell_type": "markdown",
   "metadata": {},
   "source": [
    "The below code displays the first 10 rows of the DataFrame, showing an initial preview of the data."
   ]
  },
  {
   "cell_type": "code",
   "execution_count": 9,
   "metadata": {},
   "outputs": [
    {
     "data": {
      "text/html": [
       "<div>\n",
       "<style scoped>\n",
       "    .dataframe tbody tr th:only-of-type {\n",
       "        vertical-align: middle;\n",
       "    }\n",
       "\n",
       "    .dataframe tbody tr th {\n",
       "        vertical-align: top;\n",
       "    }\n",
       "\n",
       "    .dataframe thead th {\n",
       "        text-align: right;\n",
       "    }\n",
       "</style>\n",
       "<table border=\"1\" class=\"dataframe\">\n",
       "  <thead>\n",
       "    <tr style=\"text-align: right;\">\n",
       "      <th></th>\n",
       "      <th>Unnamed: 0</th>\n",
       "      <th>Age</th>\n",
       "      <th>Location</th>\n",
       "      <th>Device</th>\n",
       "      <th>Variant</th>\n",
       "      <th>Time Spent</th>\n",
       "      <th>CTR</th>\n",
       "    </tr>\n",
       "  </thead>\n",
       "  <tbody>\n",
       "    <tr>\n",
       "      <th>0</th>\n",
       "      <td>0</td>\n",
       "      <td>62</td>\n",
       "      <td>Location2</td>\n",
       "      <td>Device2</td>\n",
       "      <td>Control</td>\n",
       "      <td>13.928669</td>\n",
       "      <td>0.084776</td>\n",
       "    </tr>\n",
       "    <tr>\n",
       "      <th>1</th>\n",
       "      <td>1</td>\n",
       "      <td>18</td>\n",
       "      <td>Location1</td>\n",
       "      <td>Device1</td>\n",
       "      <td>Variant B</td>\n",
       "      <td>11.310518</td>\n",
       "      <td>0.096859</td>\n",
       "    </tr>\n",
       "    <tr>\n",
       "      <th>2</th>\n",
       "      <td>2</td>\n",
       "      <td>21</td>\n",
       "      <td>Location2</td>\n",
       "      <td>Device1</td>\n",
       "      <td>Variant B</td>\n",
       "      <td>24.842100</td>\n",
       "      <td>0.097630</td>\n",
       "    </tr>\n",
       "    <tr>\n",
       "      <th>3</th>\n",
       "      <td>3</td>\n",
       "      <td>21</td>\n",
       "      <td>Location1</td>\n",
       "      <td>Device3</td>\n",
       "      <td>Variant B</td>\n",
       "      <td>20.061300</td>\n",
       "      <td>0.109783</td>\n",
       "    </tr>\n",
       "    <tr>\n",
       "      <th>4</th>\n",
       "      <td>4</td>\n",
       "      <td>57</td>\n",
       "      <td>Location1</td>\n",
       "      <td>Device2</td>\n",
       "      <td>Variant B</td>\n",
       "      <td>34.495503</td>\n",
       "      <td>0.068579</td>\n",
       "    </tr>\n",
       "    <tr>\n",
       "      <th>5</th>\n",
       "      <td>5</td>\n",
       "      <td>27</td>\n",
       "      <td>Location3</td>\n",
       "      <td>Device1</td>\n",
       "      <td>Variant B</td>\n",
       "      <td>26.129246</td>\n",
       "      <td>0.149341</td>\n",
       "    </tr>\n",
       "    <tr>\n",
       "      <th>6</th>\n",
       "      <td>6</td>\n",
       "      <td>37</td>\n",
       "      <td>Location3</td>\n",
       "      <td>Device3</td>\n",
       "      <td>Variant B</td>\n",
       "      <td>20.525362</td>\n",
       "      <td>0.095788</td>\n",
       "    </tr>\n",
       "    <tr>\n",
       "      <th>7</th>\n",
       "      <td>7</td>\n",
       "      <td>39</td>\n",
       "      <td>Location2</td>\n",
       "      <td>Device1</td>\n",
       "      <td>Variant A</td>\n",
       "      <td>21.525217</td>\n",
       "      <td>0.149985</td>\n",
       "    </tr>\n",
       "    <tr>\n",
       "      <th>8</th>\n",
       "      <td>8</td>\n",
       "      <td>54</td>\n",
       "      <td>Location3</td>\n",
       "      <td>Device2</td>\n",
       "      <td>Control</td>\n",
       "      <td>21.910608</td>\n",
       "      <td>0.135535</td>\n",
       "    </tr>\n",
       "    <tr>\n",
       "      <th>9</th>\n",
       "      <td>9</td>\n",
       "      <td>41</td>\n",
       "      <td>Location1</td>\n",
       "      <td>Device2</td>\n",
       "      <td>Variant A</td>\n",
       "      <td>27.642788</td>\n",
       "      <td>0.137266</td>\n",
       "    </tr>\n",
       "  </tbody>\n",
       "</table>\n",
       "</div>"
      ],
      "text/plain": [
       "   Unnamed: 0  Age   Location   Device    Variant  Time Spent       CTR\n",
       "0           0   62  Location2  Device2    Control   13.928669  0.084776\n",
       "1           1   18  Location1  Device1  Variant B   11.310518  0.096859\n",
       "2           2   21  Location2  Device1  Variant B   24.842100  0.097630\n",
       "3           3   21  Location1  Device3  Variant B   20.061300  0.109783\n",
       "4           4   57  Location1  Device2  Variant B   34.495503  0.068579\n",
       "5           5   27  Location3  Device1  Variant B   26.129246  0.149341\n",
       "6           6   37  Location3  Device3  Variant B   20.525362  0.095788\n",
       "7           7   39  Location2  Device1  Variant A   21.525217  0.149985\n",
       "8           8   54  Location3  Device2    Control   21.910608  0.135535\n",
       "9           9   41  Location1  Device2  Variant A   27.642788  0.137266"
      ]
     },
     "execution_count": 9,
     "metadata": {},
     "output_type": "execute_result"
    }
   ],
   "source": [
    "df.head(10)"
   ]
  },
  {
   "attachments": {},
   "cell_type": "markdown",
   "metadata": {},
   "source": [
    "The below code will create subplots to visualize the distributions and frequencies of various columns in the dataset. It plots histograms for numerical columns (Age, Time Spent, CTR) and bar plots for categorical columns (Location, Device, Variant) adjusting the layout of the subplots, and displaying the resulting plots."
   ]
  },
  {
   "cell_type": "code",
   "execution_count": 10,
   "metadata": {},
   "outputs": [
    {
     "data": {
      "image/png": "[encoded data removed]",
      "text/plain": [
       "<Figure size 1200x1200 with 6 Axes>"
      ]
     },
     "metadata": {},
     "output_type": "display_data"
    }
   ],
   "source": [
    "# Extract the columns from the data\n",
    "age = df['Age']\n",
    "location = df['Location']\n",
    "device = df['Device']\n",
    "variant = df['Variant']\n",
    "time_spent = df['Time Spent']\n",
    "ctr = df['CTR']\n",
    "\n",
    "# Create subplots for each column\n",
    "fig, axs = plt.subplots(3, 2, figsize=(12, 12))\n",
    "\n",
    "# Plot histograms for numerical columns (Age, Time Spent, CTR)\n",
    "axs[0, 0].hist(age, bins=10, color='skyblue')\n",
    "axs[0, 0].set_title('Age')\n",
    "\n",
    "axs[0, 1].hist(time_spent, bins=10, color='lightgreen')\n",
    "axs[0, 1].set_title('Time Spent')\n",
    "\n",
    "axs[1, 0].hist(ctr, bins=10, color='salmon')\n",
    "axs[1, 0].set_title('CTR')\n",
    "\n",
    "# Plot bar plots for categorical columns (Location, Device, Variant)\n",
    "axs[1, 1].bar(location.value_counts().index, location.value_counts().values, color='orchid')\n",
    "axs[1, 1].set_title('Location')\n",
    "\n",
    "axs[2, 0].bar(device.value_counts().index, device.value_counts().values, color='gold')\n",
    "axs[2, 0].set_title('Device')\n",
    "\n",
    "axs[2, 1].bar(variant.value_counts().index, variant.value_counts().values, color='lightblue')\n",
    "axs[2, 1].set_title('Variant')\n",
    "\n",
    "# Adjust the layout and spacing\n",
    "plt.tight_layout()\n",
    "\n",
    "# Display the plots\n",
    "plt.show()"
   ]
  },
  {
   "attachments": {},
   "cell_type": "markdown",
   "metadata": {},
   "source": [
    "After visualizing the graphs, the histograms for numerical columns show a roughly equal distribution across the bins without any significant peaks or valleys, and the bar plots for categorical columns exhibit relatively uniform bar heights with no outliers or extreme values, it can be concluded that the data is uniformly distributed and free from outliers. Thus, we are not required to do any data cleaning and will get to the statistical analysis of the date. "
   ]
  },
  {
   "attachments": {},
   "cell_type": "markdown",
   "metadata": {},
   "source": [
    "Now I have computed the mean values of the 'Time Spent' and 'CTR' columns, grouped by different categories in the DataFrame. The below code calculates the average 'Time Spent' and 'CTR' values for each unique 'Location' in the DataFrame."
   ]
  },
  {
   "cell_type": "code",
   "execution_count": 11,
   "metadata": {},
   "outputs": [
    {
     "data": {
      "text/html": [
       "<div>\n",
       "<style scoped>\n",
       "    .dataframe tbody tr th:only-of-type {\n",
       "        vertical-align: middle;\n",
       "    }\n",
       "\n",
       "    .dataframe tbody tr th {\n",
       "        vertical-align: top;\n",
       "    }\n",
       "\n",
       "    .dataframe thead th {\n",
       "        text-align: right;\n",
       "    }\n",
       "</style>\n",
       "<table border=\"1\" class=\"dataframe\">\n",
       "  <thead>\n",
       "    <tr style=\"text-align: right;\">\n",
       "      <th></th>\n",
       "      <th>Time Spent</th>\n",
       "      <th>CTR</th>\n",
       "    </tr>\n",
       "    <tr>\n",
       "      <th>Location</th>\n",
       "      <th></th>\n",
       "      <th></th>\n",
       "    </tr>\n",
       "  </thead>\n",
       "  <tbody>\n",
       "    <tr>\n",
       "      <th>Location1</th>\n",
       "      <td>22.707286</td>\n",
       "      <td>0.110217</td>\n",
       "    </tr>\n",
       "    <tr>\n",
       "      <th>Location2</th>\n",
       "      <td>22.648998</td>\n",
       "      <td>0.108517</td>\n",
       "    </tr>\n",
       "    <tr>\n",
       "      <th>Location3</th>\n",
       "      <td>22.787691</td>\n",
       "      <td>0.108708</td>\n",
       "    </tr>\n",
       "  </tbody>\n",
       "</table>\n",
       "</div>"
      ],
      "text/plain": [
       "           Time Spent       CTR\n",
       "Location                       \n",
       "Location1   22.707286  0.110217\n",
       "Location2   22.648998  0.108517\n",
       "Location3   22.787691  0.108708"
      ]
     },
     "execution_count": 11,
     "metadata": {},
     "output_type": "execute_result"
    }
   ],
   "source": [
    "df.groupby('Location')[['Time Spent','CTR']].mean()"
   ]
  },
  {
   "attachments": {},
   "cell_type": "markdown",
   "metadata": {},
   "source": [
    "The below code calculates the average 'Time Spent' and 'CTR' values for each unique 'Device' in the DataFrame."
   ]
  },
  {
   "cell_type": "code",
   "execution_count": 12,
   "metadata": {},
   "outputs": [
    {
     "data": {
      "text/html": [
       "<div>\n",
       "<style scoped>\n",
       "    .dataframe tbody tr th:only-of-type {\n",
       "        vertical-align: middle;\n",
       "    }\n",
       "\n",
       "    .dataframe tbody tr th {\n",
       "        vertical-align: top;\n",
       "    }\n",
       "\n",
       "    .dataframe thead th {\n",
       "        text-align: right;\n",
       "    }\n",
       "</style>\n",
       "<table border=\"1\" class=\"dataframe\">\n",
       "  <thead>\n",
       "    <tr style=\"text-align: right;\">\n",
       "      <th></th>\n",
       "      <th>Time Spent</th>\n",
       "      <th>CTR</th>\n",
       "    </tr>\n",
       "    <tr>\n",
       "      <th>Device</th>\n",
       "      <th></th>\n",
       "      <th></th>\n",
       "    </tr>\n",
       "  </thead>\n",
       "  <tbody>\n",
       "    <tr>\n",
       "      <th>Device1</th>\n",
       "      <td>22.635032</td>\n",
       "      <td>0.109634</td>\n",
       "    </tr>\n",
       "    <tr>\n",
       "      <th>Device2</th>\n",
       "      <td>22.890021</td>\n",
       "      <td>0.109868</td>\n",
       "    </tr>\n",
       "    <tr>\n",
       "      <th>Device3</th>\n",
       "      <td>22.612276</td>\n",
       "      <td>0.107993</td>\n",
       "    </tr>\n",
       "  </tbody>\n",
       "</table>\n",
       "</div>"
      ],
      "text/plain": [
       "         Time Spent       CTR\n",
       "Device                       \n",
       "Device1   22.635032  0.109634\n",
       "Device2   22.890021  0.109868\n",
       "Device3   22.612276  0.107993"
      ]
     },
     "execution_count": 12,
     "metadata": {},
     "output_type": "execute_result"
    }
   ],
   "source": [
    "df.groupby('Device')[['Time Spent','CTR']].mean()"
   ]
  },
  {
   "attachments": {},
   "cell_type": "markdown",
   "metadata": {},
   "source": [
    "The below code calculates the average 'Time Spent' and 'CTR' values for each unique 'Age' in the DataFrame."
   ]
  },
  {
   "cell_type": "code",
   "execution_count": 13,
   "metadata": {},
   "outputs": [
    {
     "data": {
      "text/html": [
       "<div>\n",
       "<style scoped>\n",
       "    .dataframe tbody tr th:only-of-type {\n",
       "        vertical-align: middle;\n",
       "    }\n",
       "\n",
       "    .dataframe tbody tr th {\n",
       "        vertical-align: top;\n",
       "    }\n",
       "\n",
       "    .dataframe thead th {\n",
       "        text-align: right;\n",
       "    }\n",
       "</style>\n",
       "<table border=\"1\" class=\"dataframe\">\n",
       "  <thead>\n",
       "    <tr style=\"text-align: right;\">\n",
       "      <th></th>\n",
       "      <th>Time Spent</th>\n",
       "      <th>CTR</th>\n",
       "    </tr>\n",
       "    <tr>\n",
       "      <th>Age</th>\n",
       "      <th></th>\n",
       "      <th></th>\n",
       "    </tr>\n",
       "  </thead>\n",
       "  <tbody>\n",
       "    <tr>\n",
       "      <th>18</th>\n",
       "      <td>21.805160</td>\n",
       "      <td>0.104431</td>\n",
       "    </tr>\n",
       "    <tr>\n",
       "      <th>19</th>\n",
       "      <td>24.301099</td>\n",
       "      <td>0.113928</td>\n",
       "    </tr>\n",
       "    <tr>\n",
       "      <th>20</th>\n",
       "      <td>22.658484</td>\n",
       "      <td>0.106769</td>\n",
       "    </tr>\n",
       "    <tr>\n",
       "      <th>21</th>\n",
       "      <td>23.174444</td>\n",
       "      <td>0.106317</td>\n",
       "    </tr>\n",
       "    <tr>\n",
       "      <th>22</th>\n",
       "      <td>23.339777</td>\n",
       "      <td>0.111566</td>\n",
       "    </tr>\n",
       "    <tr>\n",
       "      <th>23</th>\n",
       "      <td>21.203465</td>\n",
       "      <td>0.111024</td>\n",
       "    </tr>\n",
       "    <tr>\n",
       "      <th>24</th>\n",
       "      <td>21.505956</td>\n",
       "      <td>0.109765</td>\n",
       "    </tr>\n",
       "    <tr>\n",
       "      <th>25</th>\n",
       "      <td>23.541231</td>\n",
       "      <td>0.109907</td>\n",
       "    </tr>\n",
       "    <tr>\n",
       "      <th>26</th>\n",
       "      <td>22.598906</td>\n",
       "      <td>0.110061</td>\n",
       "    </tr>\n",
       "    <tr>\n",
       "      <th>27</th>\n",
       "      <td>21.729390</td>\n",
       "      <td>0.105247</td>\n",
       "    </tr>\n",
       "    <tr>\n",
       "      <th>28</th>\n",
       "      <td>21.807757</td>\n",
       "      <td>0.103960</td>\n",
       "    </tr>\n",
       "    <tr>\n",
       "      <th>29</th>\n",
       "      <td>24.299111</td>\n",
       "      <td>0.100519</td>\n",
       "    </tr>\n",
       "    <tr>\n",
       "      <th>30</th>\n",
       "      <td>23.432915</td>\n",
       "      <td>0.106659</td>\n",
       "    </tr>\n",
       "    <tr>\n",
       "      <th>31</th>\n",
       "      <td>21.989786</td>\n",
       "      <td>0.104464</td>\n",
       "    </tr>\n",
       "    <tr>\n",
       "      <th>32</th>\n",
       "      <td>22.346828</td>\n",
       "      <td>0.112993</td>\n",
       "    </tr>\n",
       "    <tr>\n",
       "      <th>33</th>\n",
       "      <td>24.616644</td>\n",
       "      <td>0.114898</td>\n",
       "    </tr>\n",
       "    <tr>\n",
       "      <th>34</th>\n",
       "      <td>22.385361</td>\n",
       "      <td>0.106876</td>\n",
       "    </tr>\n",
       "    <tr>\n",
       "      <th>35</th>\n",
       "      <td>21.581871</td>\n",
       "      <td>0.111845</td>\n",
       "    </tr>\n",
       "    <tr>\n",
       "      <th>36</th>\n",
       "      <td>22.879286</td>\n",
       "      <td>0.107217</td>\n",
       "    </tr>\n",
       "    <tr>\n",
       "      <th>37</th>\n",
       "      <td>20.809576</td>\n",
       "      <td>0.120952</td>\n",
       "    </tr>\n",
       "    <tr>\n",
       "      <th>38</th>\n",
       "      <td>25.301273</td>\n",
       "      <td>0.117152</td>\n",
       "    </tr>\n",
       "    <tr>\n",
       "      <th>39</th>\n",
       "      <td>22.893486</td>\n",
       "      <td>0.105070</td>\n",
       "    </tr>\n",
       "    <tr>\n",
       "      <th>40</th>\n",
       "      <td>21.684611</td>\n",
       "      <td>0.121210</td>\n",
       "    </tr>\n",
       "    <tr>\n",
       "      <th>41</th>\n",
       "      <td>24.134836</td>\n",
       "      <td>0.110276</td>\n",
       "    </tr>\n",
       "    <tr>\n",
       "      <th>42</th>\n",
       "      <td>24.833502</td>\n",
       "      <td>0.113295</td>\n",
       "    </tr>\n",
       "    <tr>\n",
       "      <th>43</th>\n",
       "      <td>21.289182</td>\n",
       "      <td>0.106507</td>\n",
       "    </tr>\n",
       "    <tr>\n",
       "      <th>44</th>\n",
       "      <td>23.023596</td>\n",
       "      <td>0.106827</td>\n",
       "    </tr>\n",
       "    <tr>\n",
       "      <th>45</th>\n",
       "      <td>22.468996</td>\n",
       "      <td>0.099483</td>\n",
       "    </tr>\n",
       "    <tr>\n",
       "      <th>46</th>\n",
       "      <td>22.938505</td>\n",
       "      <td>0.110406</td>\n",
       "    </tr>\n",
       "    <tr>\n",
       "      <th>47</th>\n",
       "      <td>21.702336</td>\n",
       "      <td>0.119617</td>\n",
       "    </tr>\n",
       "    <tr>\n",
       "      <th>48</th>\n",
       "      <td>22.503268</td>\n",
       "      <td>0.108007</td>\n",
       "    </tr>\n",
       "    <tr>\n",
       "      <th>49</th>\n",
       "      <td>25.031848</td>\n",
       "      <td>0.115586</td>\n",
       "    </tr>\n",
       "    <tr>\n",
       "      <th>50</th>\n",
       "      <td>24.264450</td>\n",
       "      <td>0.104252</td>\n",
       "    </tr>\n",
       "    <tr>\n",
       "      <th>51</th>\n",
       "      <td>22.599297</td>\n",
       "      <td>0.106918</td>\n",
       "    </tr>\n",
       "    <tr>\n",
       "      <th>52</th>\n",
       "      <td>21.631632</td>\n",
       "      <td>0.106556</td>\n",
       "    </tr>\n",
       "    <tr>\n",
       "      <th>53</th>\n",
       "      <td>20.838519</td>\n",
       "      <td>0.107413</td>\n",
       "    </tr>\n",
       "    <tr>\n",
       "      <th>54</th>\n",
       "      <td>23.340736</td>\n",
       "      <td>0.108838</td>\n",
       "    </tr>\n",
       "    <tr>\n",
       "      <th>55</th>\n",
       "      <td>23.145363</td>\n",
       "      <td>0.108426</td>\n",
       "    </tr>\n",
       "    <tr>\n",
       "      <th>56</th>\n",
       "      <td>21.172350</td>\n",
       "      <td>0.109381</td>\n",
       "    </tr>\n",
       "    <tr>\n",
       "      <th>57</th>\n",
       "      <td>23.608306</td>\n",
       "      <td>0.106884</td>\n",
       "    </tr>\n",
       "    <tr>\n",
       "      <th>58</th>\n",
       "      <td>21.206153</td>\n",
       "      <td>0.107542</td>\n",
       "    </tr>\n",
       "    <tr>\n",
       "      <th>59</th>\n",
       "      <td>20.797435</td>\n",
       "      <td>0.106319</td>\n",
       "    </tr>\n",
       "    <tr>\n",
       "      <th>60</th>\n",
       "      <td>21.909116</td>\n",
       "      <td>0.114229</td>\n",
       "    </tr>\n",
       "    <tr>\n",
       "      <th>61</th>\n",
       "      <td>24.839548</td>\n",
       "      <td>0.105097</td>\n",
       "    </tr>\n",
       "    <tr>\n",
       "      <th>62</th>\n",
       "      <td>23.215577</td>\n",
       "      <td>0.111154</td>\n",
       "    </tr>\n",
       "    <tr>\n",
       "      <th>63</th>\n",
       "      <td>23.439610</td>\n",
       "      <td>0.111595</td>\n",
       "    </tr>\n",
       "    <tr>\n",
       "      <th>64</th>\n",
       "      <td>23.264560</td>\n",
       "      <td>0.105848</td>\n",
       "    </tr>\n",
       "  </tbody>\n",
       "</table>\n",
       "</div>"
      ],
      "text/plain": [
       "     Time Spent       CTR\n",
       "Age                      \n",
       "18    21.805160  0.104431\n",
       "19    24.301099  0.113928\n",
       "20    22.658484  0.106769\n",
       "21    23.174444  0.106317\n",
       "22    23.339777  0.111566\n",
       "23    21.203465  0.111024\n",
       "24    21.505956  0.109765\n",
       "25    23.541231  0.109907\n",
       "26    22.598906  0.110061\n",
       "27    21.729390  0.105247\n",
       "28    21.807757  0.103960\n",
       "29    24.299111  0.100519\n",
       "30    23.432915  0.106659\n",
       "31    21.989786  0.104464\n",
       "32    22.346828  0.112993\n",
       "33    24.616644  0.114898\n",
       "34    22.385361  0.106876\n",
       "35    21.581871  0.111845\n",
       "36    22.879286  0.107217\n",
       "37    20.809576  0.120952\n",
       "38    25.301273  0.117152\n",
       "39    22.893486  0.105070\n",
       "40    21.684611  0.121210\n",
       "41    24.134836  0.110276\n",
       "42    24.833502  0.113295\n",
       "43    21.289182  0.106507\n",
       "44    23.023596  0.106827\n",
       "45    22.468996  0.099483\n",
       "46    22.938505  0.110406\n",
       "47    21.702336  0.119617\n",
       "48    22.503268  0.108007\n",
       "49    25.031848  0.115586\n",
       "50    24.264450  0.104252\n",
       "51    22.599297  0.106918\n",
       "52    21.631632  0.106556\n",
       "53    20.838519  0.107413\n",
       "54    23.340736  0.108838\n",
       "55    23.145363  0.108426\n",
       "56    21.172350  0.109381\n",
       "57    23.608306  0.106884\n",
       "58    21.206153  0.107542\n",
       "59    20.797435  0.106319\n",
       "60    21.909116  0.114229\n",
       "61    24.839548  0.105097\n",
       "62    23.215577  0.111154\n",
       "63    23.439610  0.111595\n",
       "64    23.264560  0.105848"
      ]
     },
     "execution_count": 13,
     "metadata": {},
     "output_type": "execute_result"
    }
   ],
   "source": [
    "df.groupby('Age')[['Time Spent','CTR']].mean()"
   ]
  },
  {
   "attachments": {},
   "cell_type": "markdown",
   "metadata": {},
   "source": [
    "The below code  calculates the average 'Time Spent' and 'CTR' values for each unique 'Variant' in the DataFrame."
   ]
  },
  {
   "cell_type": "code",
   "execution_count": 14,
   "metadata": {},
   "outputs": [
    {
     "data": {
      "text/html": [
       "<div>\n",
       "<style scoped>\n",
       "    .dataframe tbody tr th:only-of-type {\n",
       "        vertical-align: middle;\n",
       "    }\n",
       "\n",
       "    .dataframe tbody tr th {\n",
       "        vertical-align: top;\n",
       "    }\n",
       "\n",
       "    .dataframe thead th {\n",
       "        text-align: right;\n",
       "    }\n",
       "</style>\n",
       "<table border=\"1\" class=\"dataframe\">\n",
       "  <thead>\n",
       "    <tr style=\"text-align: right;\">\n",
       "      <th></th>\n",
       "      <th>Time Spent</th>\n",
       "      <th>CTR</th>\n",
       "    </tr>\n",
       "    <tr>\n",
       "      <th>Variant</th>\n",
       "      <th></th>\n",
       "      <th></th>\n",
       "    </tr>\n",
       "  </thead>\n",
       "  <tbody>\n",
       "    <tr>\n",
       "      <th>Control</th>\n",
       "      <td>20.070781</td>\n",
       "      <td>0.098554</td>\n",
       "    </tr>\n",
       "    <tr>\n",
       "      <th>Variant A</th>\n",
       "      <td>24.805547</td>\n",
       "      <td>0.120269</td>\n",
       "    </tr>\n",
       "    <tr>\n",
       "      <th>Variant B</th>\n",
       "      <td>23.343783</td>\n",
       "      <td>0.108933</td>\n",
       "    </tr>\n",
       "  </tbody>\n",
       "</table>\n",
       "</div>"
      ],
      "text/plain": [
       "           Time Spent       CTR\n",
       "Variant                        \n",
       "Control     20.070781  0.098554\n",
       "Variant A   24.805547  0.120269\n",
       "Variant B   23.343783  0.108933"
      ]
     },
     "execution_count": 14,
     "metadata": {},
     "output_type": "execute_result"
    }
   ],
   "source": [
    "df.groupby('Variant')[['Time Spent','CTR']].mean()"
   ]
  },
  {
   "attachments": {},
   "cell_type": "markdown",
   "metadata": {},
   "source": [
    "The groupby function gave me insights into the average 'Time Spent' and 'CTR' values associated with different categories or groups within the DataFrame, allowing for comparisons and analysis based on those categories. It can be seen that average time spent and average CTR is almost similar across locations, devices and roughly around age."
   ]
  },
  {
   "attachments": {},
   "cell_type": "markdown",
   "metadata": {},
   "source": [
    "The below code will categorizes the 'Age' column into different age ranges defined by the age_ranges list. It then calculates the average 'CTR' and 'Time Spent' values for each age group. The results are displayed as a grouped DataFrame showing the mean 'CTR' and 'Time Spent' values for each age group. This allows for a comparison of engagement metrics across different age ranges in the dataset."
   ]
  },
  {
   "cell_type": "code",
   "execution_count": 15,
   "metadata": {},
   "outputs": [
    {
     "name": "stdout",
     "output_type": "stream",
     "text": [
      "                CTR  Time Spent\n",
      "age_group                      \n",
      "[18, 25)   0.108860   22.473389\n",
      "[25, 35)   0.107459   22.885105\n",
      "[35, 64)   0.109895   22.700820\n"
     ]
    }
   ],
   "source": [
    "\n",
    "age_ranges = [\n",
    "    (18, 24),\n",
    "    (25, 34),\n",
    "    (35, 44),\n",
    "   \n",
    "]\n",
    "max_end = df['Age'].max() \n",
    "df['age_group'] = pd.cut(df['Age'], bins=[start for start, _ in age_ranges] + [max_end], right=False)\n",
    "grouped_data = df.groupby('age_group').agg({'CTR': 'mean', 'Time Spent': 'mean'})\n",
    "print(grouped_data)"
   ]
  },
  {
   "attachments": {},
   "cell_type": "markdown",
   "metadata": {},
   "source": [
    "We can observe the average engagement metrics (CTR and Time Spent) for different age groups. he average CTR (the proportion of clicks per impression), which ranges between roughly 10.7% and 10.9%, can be shown from the findings to be quite stable across the age groups. "
   ]
  },
  {
   "attachments": {},
   "cell_type": "markdown",
   "metadata": {},
   "source": [
    "The below code will create a box plot using the seaborn library. It will visualize the distribution of the 'Time Spent' variable for each unique value of the 'Variant' variable in the DataFrame providing a summary of the distribution and potential differences in 'Time Spent' across different 'Variant' groups."
   ]
  },
  {
   "cell_type": "code",
   "execution_count": 16,
   "metadata": {},
   "outputs": [
    {
     "data": {
      "text/plain": [
       "<Axes: xlabel='Variant', ylabel='Time Spent'>"
      ]
     },
     "execution_count": 16,
     "metadata": {},
     "output_type": "execute_result"
    },
    {
     "data": {
      "image/png": "[encoded data removed]",
      "text/plain": [
       "<Figure size 640x480 with 1 Axes>"
      ]
     },
     "metadata": {},
     "output_type": "display_data"
    }
   ],
   "source": [
    "sns.boxplot(data= df, x= 'Variant', y= 'Time Spent')"
   ]
  },
  {
   "attachments": {},
   "cell_type": "markdown",
   "metadata": {},
   "source": [
    "The below code will generate a box plot using the seaborn library. It will visually represent the distribution of the 'CTR' (Click-through Rate) variable for each unique value of the 'Variant' variable in the DataFrame, allowing for an overview of the 'CTR' distribution across different 'Variant' groups."
   ]
  },
  {
   "cell_type": "code",
   "execution_count": 17,
   "metadata": {},
   "outputs": [
    {
     "data": {
      "text/plain": [
       "<Axes: xlabel='Variant', ylabel='CTR'>"
      ]
     },
     "execution_count": 17,
     "metadata": {},
     "output_type": "execute_result"
    },
    {
     "data": {
      "image/png": "[encoded data removed]",
      "text/plain": [
       "<Figure size 640x480 with 1 Axes>"
      ]
     },
     "metadata": {},
     "output_type": "display_data"
    }
   ],
   "source": [
    "sns.boxplot(data= df, x= 'Variant', y= 'CTR')"
   ]
  },
  {
   "attachments": {},
   "cell_type": "markdown",
   "metadata": {},
   "source": [
    "The above box plots show that the mean CTR of Variant A is higher than the mean CTR of Variant B and Control. Also, the mean Time Spent of Variant A is higher than the mean Time Spent of Variant B and Control. This is my visual analysis of the engagement metrics."
   ]
  },
  {
   "attachments": {},
   "cell_type": "markdown",
   "metadata": {},
   "source": [
    "The below code compares the 'Time Spent' variable among three different groups: 'Variant A', 'Variant B', and 'Control'. It creates three separate variables (var_a, var_b, var_c) that contain the 'Time Spent' values for each group. Then, it performs a one-way analysis of variance (ANOVA) test to assess if there are any significant differences in the means of the 'Time Spent' variable between the groups. The resulting p_val represents the p-value, which indicates the significance level of the test. "
   ]
  },
  {
   "cell_type": "code",
   "execution_count": 18,
   "metadata": {},
   "outputs": [
    {
     "name": "stdout",
     "output_type": "stream",
     "text": [
      "F_onewayResult(statistic=75.60840947416146, pvalue=2.676826588910432e-31)\n"
     ]
    }
   ],
   "source": [
    "var_a = df[df['Variant'] == 'Variant A']['Time Spent']\n",
    "var_b = df[df['Variant'] == 'Variant B']['Time Spent']\n",
    "var_c = df[df['Variant'] == 'Control']['Time Spent']\n",
    "\n",
    "p_val = stats.f_oneway(var_a, var_b, var_c)\n",
    "print(p_val)"
   ]
  },
  {
   "attachments": {},
   "cell_type": "markdown",
   "metadata": {},
   "source": [
    "The result of the ANOVA test indicates that there are significant differences in the 'Time Spent' variable among the groups ('Variant A', 'Variant B', and 'Control'). The statistic value indicates the calculated F-statistic, which measures the variation between group means compared to the variation within each group. The extremely low p-value suggests strong evidence to reject the null hypothesis, indicating that the differences in the means of the 'Time Spent' variable among the groups are highly significant."
   ]
  },
  {
   "attachments": {},
   "cell_type": "markdown",
   "metadata": {},
   "source": [
    "In the below code, we similarly compare the 'CTR' (Click-through Rate) variable among the three different groups and perfrom the ANOVA test."
   ]
  },
  {
   "cell_type": "code",
   "execution_count": 19,
   "metadata": {},
   "outputs": [
    {
     "name": "stdout",
     "output_type": "stream",
     "text": [
      "F_onewayResult(statistic=93.58891593622702, pvalue=5.638952705781554e-38)\n"
     ]
    }
   ],
   "source": [
    "var_a = df[df['Variant'] == 'Variant A']['CTR']\n",
    "var_b = df[df['Variant'] == 'Variant B']['CTR']\n",
    "var_c = df[df['Variant'] == 'Control']['CTR']\n",
    "\n",
    "p_val = stats.f_oneway(var_a, var_b, var_c)\n",
    "print(p_val)"
   ]
  },
  {
   "attachments": {},
   "cell_type": "markdown",
   "metadata": {},
   "source": [
    "The result of the ANOVA test indicates that there are statistically significant differences in the 'CTR' values among the 'Variant A', 'Variant B', and 'Control' groups."
   ]
  },
  {
   "attachments": {},
   "cell_type": "markdown",
   "metadata": {},
   "source": [
    "__________________________________________________________________________________________________________________________________________________"
   ]
  },
  {
   "attachments": {},
   "cell_type": "markdown",
   "metadata": {},
   "source": [
    "#### 1. Analyze the results to determine which feature (if any) results in CTR or Time Spent lift."
   ]
  },
  {
   "attachments": {},
   "cell_type": "markdown",
   "metadata": {},
   "source": [
    "The below code calculates the lift in CTR (Click-through Rate) for 'Variant A' and 'Variant B' compared to the 'Control' group. It groups the DataFrame by the 'Variant' column and sums the 'CTR' values for each group. The variable lift_variant_a represents the difference in CTR between 'Variant A' and 'Control', while lift_variant_b represents the difference in CTR between 'Variant B' and 'Control'. The code then prints the calculated lift values, indicating the improvement or decline in CTR compared to the 'Control' group for each variant."
   ]
  },
  {
   "cell_type": "code",
   "execution_count": 20,
   "metadata": {},
   "outputs": [
    {
     "name": "stdout",
     "output_type": "stream",
     "text": [
      "Variant A Lift in CTR: 6.180520716900553\n",
      "Variant B Lift in CTR: 2.439491210528942\n"
     ]
    }
   ],
   "source": [
    "df2 = df.groupby(by = 'Variant')['CTR'].sum()\n",
    "lift_variant_a = df2['Variant A'] - df2['Control']\n",
    "lift_variant_b = df2['Variant B'] - df2['Control']\n",
    "print('Variant A Lift in CTR:', lift_variant_a)\n",
    "print('Variant B Lift in CTR:', lift_variant_b)"
   ]
  },
  {
   "attachments": {},
   "cell_type": "markdown",
   "metadata": {},
   "source": [
    "The result indicates the lift in CTR (Click-through Rate) for 'Variant A' and 'Variant B' compared to the 'Control' group.\n",
    "\n",
    "Variant A: The lift in CTR is 6.180520716900553, suggesting that 'Variant A' has a 6.18% higher CTR compared to the 'Control' group. This indicates that the implementation of 'Variant A' has resulted in a positive impact on user engagement, as it has generated a higher click-through rate.\n",
    "\n",
    "Variant B: The lift in CTR is 2.439491210528942, indicating that 'Variant B' has a 2.44% higher CTR compared to the 'Control' group. This implies that 'Variant B' has also shown improvement in user engagement, albeit to a lesser extent than 'Variant A'.\n",
    "\n",
    "Both 'Variant A' and 'Variant B' have demonstrated lifts in CTR compared to the 'Control' group, with 'Variant A' showing a higher improvement. "
   ]
  },
  {
   "attachments": {},
   "cell_type": "markdown",
   "metadata": {},
   "source": [
    "\n",
    "\n",
    "\n",
    "The below code calculates the lift in Time Spent for 'Variant A' and 'Variant B' compared to the 'Control' group. It groups the DataFrame by the 'Variant' column and sums the 'Time Spent' values for each group. The variable varA represents the difference in Time Spent between 'Variant A' and 'Control', while varB represents the difference in Time Spent between 'Variant B' and 'Control'. The code then prints the calculated lift values, indicating the increase or decrease in Time Spent compared to the 'Control' group for each variant."
   ]
  },
  {
   "cell_type": "code",
   "execution_count": 21,
   "metadata": {},
   "outputs": [
    {
     "name": "stdout",
     "output_type": "stream",
     "text": [
      "Variant A Lift in Time Spent: 1361.7650937699673\n",
      "Variant B Lift in Time Spent: 879.3828393472804\n"
     ]
    }
   ],
   "source": [
    "df2 = df.groupby(by = 'Variant')['Time Spent'].sum()\n",
    "varA = df2['Variant A'] - df2['Control']\n",
    "varB = df2['Variant B'] - df2['Control']\n",
    "print('Variant A Lift in Time Spent:', varA)\n",
    "print('Variant B Lift in Time Spent:', varB)"
   ]
  },
  {
   "attachments": {},
   "cell_type": "markdown",
   "metadata": {},
   "source": [
    "\n",
    "The result indicates the lift in Time Spent for 'Variant A' and 'Variant B' compared to the 'Control' group.\n",
    "\n",
    "Variant A: The lift in Time Spent is 1361.7650937699673 units, suggesting that 'Variant A' has a total Time Spent that is 1361.77 units higher than the 'Control' group. This indicates that 'Variant A' has been successful in capturing more user attention and engagement, resulting in a significant increase in the total time spent on the content.\n",
    "\n",
    "Variant B: The lift in Time Spent is 879.3828393472804 units, indicating that 'Variant B' has a total Time Spent that is 879.38 units higher than the 'Control' group. This implies that 'Variant B' has also shown improvement in capturing user attention and increasing the total time spent on the content, although to a lesser extent than 'Variant A'.\n",
    "\n",
    "Both 'Variant A' and 'Variant B' have demonstrated lifts in Time Spent compared to the 'Control' group, with 'Variant A' showing a higher improvement. These lift values provide insights into the relative effectiveness of different variants in terms of increasing user engagement and the total time users spend on the content.\n",
    "\n",
    "Overall, Variant A is more successful in capturing and retaining user attention, resulting in users spending more time engaging with the content or feature being tested.  There is a weak positive correlation between the control and the variants, signifying that on average, when it's a variant, the user tends to spend more time and click more often."
   ]
  },
  {
   "attachments": {},
   "cell_type": "markdown",
   "metadata": {},
   "source": [
    "__________________________________________________________________________________________________________________________________________________"
   ]
  },
  {
   "attachments": {},
   "cell_type": "markdown",
   "metadata": {},
   "source": [
    "#### 2. Conduct statistical testing to determine if there is a statistically significant difference between the features and the control group."
   ]
  },
  {
   "attachments": {},
   "cell_type": "markdown",
   "metadata": {},
   "source": [
    "To determine how significant the gains are, I'd like to analyse the variants separately from one another and do t-test and p-value tests. We begin by supposing that there is no discernible difference between the control group and the variations in terms of the click-through rate (CTR) or average time spent. The null hypothesis is what is meant by this assertion.\n",
    "\n",
    "The null hypothesis thus implies that:\n",
    "\n",
    "1. For the click-through rate (CTR): 1. There are no significant differences in the click-through rates (CTR) between the control group and each feature variant. To put it another way, any differences we observe in the CTR may just be the result of chance and not the particular features being examined.\n",
    "For the average time spent: The average amount of time spent by the control group and each feature variant is not significantly different. Because of this, any differences in the amount of time spent may just be random fluctuations unrelated to the features being evaluated.\n",
    "\n",
    "\n",
    "2. We employ statistical instruments, such as the t-test, to test these hypotheses. We can tell if there is a significant difference between each feature variant and the control group in terms of CTR and average time spent using the t-test. We may determine the size of the differences between the group averages by computing the t-value using the t-test.\n",
    "\n",
    "\n",
    "We also take a look at the p-value, which indicates the likelihood that the data we have would be obtained if the null hypothesis were true. The estimated p-value indicates that the observed differences in CTR or average time spent are unlikely to have happened by chance alone if it is less than a predetermined threshold (typically 0.05). So, we reject the null hypothesis and come to the conclusion that there is in fact a significant difference between the groups in terms of CTR or average time spent."
   ]
  },
  {
   "attachments": {},
   "cell_type": "markdown",
   "metadata": {},
   "source": [
    "The below code separates the original DataFrame into three separate DataFrames based on the 'Variant' column: 'df_varB' contains rows where the 'Variant' is 'Variant B', 'df_varA' contains rows where the 'Variant' is 'Variant A', and 'df_Control' contains rows where the 'Variant' is 'Control'. Each resulting DataFrame will only include the rows corresponding to the specific variant mentioned in its name. This separation allows for further analysis and comparison of data specific to each variant required for the statistical testing."
   ]
  },
  {
   "cell_type": "code",
   "execution_count": 22,
   "metadata": {},
   "outputs": [],
   "source": [
    "df_varB = df[df['Variant'] == 'Variant B']\n",
    "df_varA = df[df['Variant'] == 'Variant A']\n",
    "df_Control = df[df['Variant'] == 'Control']"
   ]
  },
  {
   "attachments": {},
   "cell_type": "markdown",
   "metadata": {},
   "source": [
    "The bellow code performs independent two-sample t-tests to compare the 'Time Spent' variable between the 'Control' group and each variant group ('Variant B' and 'Variant A') and calculates the t-statistic and p-value for each comparison.\n",
    "\n",
    "Variant B: The first line of code performs a t-test between the 'Time Spent' values of the 'Control' group and 'Variant B'. The resulting output will include the t-statistic and p-value, which can be used to determine if there is a statistically significant difference in the 'Time Spent' between the two groups.\n",
    "\n",
    "Variant A: The second line of code performs a t-test between the 'Time Spent' values of the 'Control' group and 'Variant A'. Similarly, the output will include the t-statistic and p-value for this comparison.\n",
    "\n",
    "These t-tests help assess whether there are significant differences in the average 'Time Spent' between the 'Control' group and each variant group, providing insights into the impact of different variants on user engagement."
   ]
  },
  {
   "cell_type": "code",
   "execution_count": 23,
   "metadata": {},
   "outputs": [
    {
     "name": "stdout",
     "output_type": "stream",
     "text": [
      "Variant B: Ttest_indResult(statistic=-8.174237395991806, pvalue=1.496358076285182e-15)\n",
      "Variant A: Ttest_indResult(statistic=-12.142363487472364, pvalue=8.488565644996449e-31)\n"
     ]
    }
   ],
   "source": [
    "print(\"Variant B:\", stats.ttest_ind(df_Control['Time Spent'], df_varB['Time Spent']))\n",
    "print(\"Variant A:\", stats.ttest_ind(df_Control['Time Spent'], df_varA['Time Spent']))"
   ]
  },
  {
   "attachments": {},
   "cell_type": "markdown",
   "metadata": {},
   "source": [
    "The result of the t-tests conclude that both 'Variant B' and 'Variant A' show statistically significant differences in 'Time Spent' compared to the 'Control' group. However, the negative t-statistics and lower 'Time Spent' in both variants suggest that the changes made in these variants may have resulted in reduced user engagement or interaction with the content."
   ]
  },
  {
   "attachments": {},
   "cell_type": "markdown",
   "metadata": {},
   "source": [
    "I performed a similar independent two-sample t-test code to compare the 'CTR' (Click-through Rate) variable between the 'Control' group and each variant group.\n",
    "\n",
    "Variant B: The resulting output will include the t-statistic and p-value, which can be used to determine if there is a statistically significant difference in the 'CTR' between the two groups.\n",
    "\n",
    "Variant A: The t-test between the 'CTR' values of the 'Control' group and 'Variant A' will also give a similar output.\n",
    "\n"
   ]
  },
  {
   "cell_type": "code",
   "execution_count": 24,
   "metadata": {},
   "outputs": [
    {
     "name": "stdout",
     "output_type": "stream",
     "text": [
      "Variant B: Ttest_indResult(statistic=-6.4718143491783255, pvalue=1.8743198199982106e-10)\n",
      "Variant A: Ttest_indResult(statistic=-13.829424737499187, pvalue=1.9602781373243157e-38)\n"
     ]
    }
   ],
   "source": [
    "print(\"Variant B:\", stats.ttest_ind(df_Control['CTR'], df_varB['CTR']))\n",
    "print(\"Variant A:\", stats.ttest_ind(df_Control['CTR'], df_varA['CTR']))"
   ]
  },
  {
   "attachments": {},
   "cell_type": "markdown",
   "metadata": {},
   "source": [
    "The result of the t-tests provides information about the statistical significance of the difference in 'CTR' (Click-through Rate) between the 'Control' group and each variant group. Both 'Variant B' and 'Variant A' show statistically significant differences in 'CTR' compared to the 'Control' group. The negative t-statistics and lower 'CTR' in both variants suggest that the changes made in these variants may have resulted in a reduced click-through rate or less engagement with the content from users."
   ]
  },
  {
   "attachments": {},
   "cell_type": "markdown",
   "metadata": {},
   "source": [
    "Each line of the below code filters the original DataFrame to select only the rows where the 'Variant' column matches the specified variant ('Variant A' or 'Variant B'). The selected rows are then assigned to the corresponding DataFrame variable, allowing for separate analysis or comparison of the 'Time Spent' and 'CTR' values between the two variants."
   ]
  },
  {
   "cell_type": "code",
   "execution_count": 25,
   "metadata": {},
   "outputs": [],
   "source": [
    "\n",
    "variantA_time_spent = df[df['Variant'] == 'Variant A']['Time Spent']\n",
    "variantB_time_spent = df[df['Variant'] == 'Variant B']['Time Spent']\n",
    "variantA_CTR = df[df['Variant'] == 'Variant A']['CTR']\n",
    "variantB_CTR = df[df['Variant'] == 'Variant B']['CTR']"
   ]
  },
  {
   "attachments": {},
   "cell_type": "markdown",
   "metadata": {},
   "source": [
    "\n",
    "The code below performs independent two-sample t-tests to compare the 'Time Spent' and 'CTR' (Click-through Rate) variables between 'Variant A' and 'Variant B' groups.\n",
    "\n",
    "For 'Time Spent': The first t-test calculates the t-statistic and p-value by comparing the 'Time Spent' values of 'Variant A' and 'Variant B'. The t-statistic measures the difference in means between the two groups, and the p-value indicates the statistical significance of that difference. The resulting t-statistic and p-value are then printed.\n",
    "\n",
    "For 'CTR': The second t-test calculates the t-statistic and p-value by comparing the 'CTR' values of 'Variant A' and 'Variant B'. Similarly, the t-statistic represents the difference in means between the two groups, and the p-value reflects the statistical significance. The t-statistic and p-value are printed.\n",
    "\n",
    "By conducting these t-tests, the code helps determine if there are significant differences in the 'Time Spent' and 'CTR' between 'Variant A' and 'Variant B'. The t-statistic indicates the direction and magnitude of the difference, while the p-value indicates the likelihood of observing such a difference by chance."
   ]
  },
  {
   "cell_type": "code",
   "execution_count": 26,
   "metadata": {},
   "outputs": [
    {
     "name": "stdout",
     "output_type": "stream",
     "text": [
      "Test between Variant A & B Time Spent\n",
      "t-statistic: 3.6788175394209075\n",
      "p-value: 0.0002534771014765265\n",
      "\n",
      " Test between Variant A & B CTR\n",
      "t-statistic: 7.08499696316128\n",
      "p-value: 3.587180487986577e-12\n"
     ]
    }
   ],
   "source": [
    "t_statistic, p_value = stats.ttest_ind(variantA_time_spent, variantB_time_spent)\n",
    "print('Test between Variant A & B Time Spent')\n",
    "print('t-statistic:', t_statistic)\n",
    "print('p-value:', p_value)\n",
    "\n",
    "t_statistic, p_value = stats.ttest_ind(variantA_CTR, variantB_CTR)\n",
    "print('\\n Test between Variant A & B CTR')\n",
    "print('t-statistic:', t_statistic)\n",
    "print('p-value:', p_value)"
   ]
  },
  {
   "attachments": {},
   "cell_type": "markdown",
   "metadata": {},
   "source": [
    "\n",
    "The t-tests between 'Variant A' and 'Variant B' reveal the following results:\n",
    "\n",
    "For 'Time Spent': The t-statistic of 3.6788 indicates a significant difference in the means of 'Time Spent' between 'Variant A' and 'Variant B'. The positive value suggests that the mean 'Time Spent' in 'Variant B' is higher than in 'Variant A'. The corresponding p-value of 0.0002535 is below the typical threshold of 0.05, indicating strong evidence against the null hypothesis of no difference in means.\n",
    "\n",
    "For 'CTR': The t-statistic of 7.085 indicates a significant difference in the means of 'CTR' between 'Variant A' and 'Variant B'. The positive value indicates that the mean 'CTR' in 'Variant B' is higher than in 'Variant A'. The p-value of 3.587e-12 is significantly below 0.05, providing strong evidence against the null hypothesis.\n",
    "\n"
   ]
  },
  {
   "attachments": {},
   "cell_type": "markdown",
   "metadata": {},
   "source": [
    "These results demonstrate that for both Time Spent and CTR, Variant A performs higher on average than Variant B, and both p-values are less than .05 indicating a statistical significant result, which is very likely to repeat with more samples. This means that it's very safe to say Variant A is the better of the two Variants when it comes to Time Spent and CTR as the performance benchmarks."
   ]
  },
  {
   "attachments": {},
   "cell_type": "markdown",
   "metadata": {},
   "source": [
    "__________________________________________________________________________________________________________________________________________________"
   ]
  },
  {
   "attachments": {},
   "cell_type": "markdown",
   "metadata": {},
   "source": [
    "#### 3. Summarize your results. Make a recommendation to the engineering team about which feature to deploy.\n",
    "\n"
   ]
  },
  {
   "attachments": {},
   "cell_type": "markdown",
   "metadata": {},
   "source": [
    "It is evident from the study that both Variants perform better in terms of click through rate (CTR) and time spent.\n",
    "\n",
    "There has been improvement when examining the increase in Time Spent and Click through rate. For both Variants, there is a considerable increase in time spent compared to the control group. However, among the two Variants, Variant A does suffer a greater increase in time spent. Next, both Variants exhibit a significant increase when the click through rate is elevated.\n",
    "The bigger of the two rises, however, is once again experienced by Variant A.\n",
    "\n",
    "As we can see, the average time spent in the control is significantly less than that in Variant A and Variant B. The results are significant and very likely to reoccur for both since the p-value is incredibly low (much lower than 0.05). With the reduced T-Stat and p-value, we can also see that Variant A performs better than Variant B in this situation.\n",
    "\n",
    "There is a clear significant difference between the variant and the control when comparing the t-test value and the p-value. We accept the null hypothesis that the variants would improve the Time Spent and Click Through Rate in both situations because the p-value is considerably below 0.05.\n",
    "\n",
    "These findings show that Variant A outperforms Variant B on average for Time Spent and CTR. Both p-values are less than.05, indicating a statistically significant result that is very likely to hold true with further samples. As a result, it is extremely safe to state that Variant A outperforms Variant B in terms of Time Spent and CTR, the performance metrics.\n",
    "\n",
    "I would advise the engineering team to deploy Variant A because, as was already said, it has the greatest effect on time and CT.  Both variants are a clear improvement over the current feature but Variant A would be the most impactful as it showed the highest average lift for both variables, and the likelyhood of this result reoccuring is statistically significant. \n",
    "\n"
   ]
  },
  {
   "attachments": {},
   "cell_type": "markdown",
   "metadata": {},
   "source": [
    "__________________________________________________________________________________________________________________________________________________"
   ]
  },
  {
   "attachments": {},
   "cell_type": "markdown",
   "metadata": {},
   "source": [
    "\n",
    "#### 4. Create a roll-out plan. How quickly will you introduce the feature to your audience?\n"
   ]
  },
  {
   "attachments": {},
   "cell_type": "markdown",
   "metadata": {},
   "source": [
    "\n",
    "I advise releasing the feature as soon as feasible because it must already be created and capable of being used as it was during testing. Perhaps some time is needed to work out any glitches and make sure you have the ability to run it on all devices. Furthermore, because you are changing a crucial component, you should proceed cautiously because if it malfunctions, you will face even more serious problems. The best case scenario, however, would be to release this as soon as feasible given the substantial rise in Time Spent and CTR. This shift carries very little risk, and if there aren't many obstacles, it should be made as soon as feasible because the outcomes are quite positive.\n",
    "\n",
    "Users of Variant B should be promptly switched to using Variant A, depending on the actual content of the Variants, to prevent them from growing too attached to using Variant B and being irritated at being forced to use Variant A. Once each of those users has switched to Variant A, Variant B can be abandoned. With the control group still in place, the business may keep an eye on Variant A's data with a larger user base to make sure there are no problems, and perhaps make any minor alterations or tweaks that could enhance Variant A before a complete launch. Reviewing the effects of any adjustments would be considerably simpler if the control group was already in place. \n",
    "\n",
    "Finally, the organisation should switch the control users over to Variant A if they are confident that the system can support the full number of users. Everything should be completed as quickly as is safe. We already know that Variant A's performance boost in terms of Time Spent and CTR is so high and large that there is very little danger that this improvement won't continue when more people start utilising it, assuming the load on Variant A creates no problems. Therefore, the shift can happen as quickly as the Variant A system can handle.\n",
    "\n",
    "The company can successfully manage the switch from Variant B to Variant A by taking these actions. Variant A has demonstrated good performance and statistical significance, suggesting that it is a promising candidate for continued deployment. The transition should be executed effectively, taking into account customer happiness and the system's overall stability.\n",
    "\n"
   ]
  },
  {
   "attachments": {},
   "cell_type": "markdown",
   "metadata": {},
   "source": [
    "__________________________________________________________________________________________________________________________________________________"
   ]
  }
 ],
 "metadata": {
  "kernelspec": {
   "display_name": "Python 3",
   "language": "python",
   "name": "python3"
  },
  "language_info": {
   "codemirror_mode": {
    "name": "ipython",
    "version": 3
   },
   "file_extension": ".py",
   "mimetype": "text/x-python",
   "name": "python",
   "nbconvert_exporter": "python",
   "pygments_lexer": "ipython3",
   "version": "3.11.3"
  },
  "orig_nbformat": 4
 },
 "nbformat": 4,
 "nbformat_minor": 2
}
